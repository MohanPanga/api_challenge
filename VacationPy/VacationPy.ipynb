{
 "cells": [
  {
   "cell_type": "code",
   "execution_count": 19,
   "metadata": {},
   "outputs": [],
   "source": [
    "import pandas as pd\n",
    "from citipy import citipy\n",
    "import requests\n",
    "import json\n",
    "import numpy as np\n",
    "import gmaps\n",
    "from pprint import pprint\n",
    "from config import gkey\n",
    "gmaps.configure(api_key=gkey)"
   ]
  },
  {
   "cell_type": "code",
   "execution_count": 23,
   "metadata": {},
   "outputs": [
    {
     "data": {
      "text/plain": [
       "Unnamed: 0       int64\n",
       "name            object\n",
       "latitude       float64\n",
       "longitude      float64\n",
       "temperature    float64\n",
       "cloudiness       int64\n",
       "humidity         int64\n",
       "windspeed      float64\n",
       "dtype: object"
      ]
     },
     "execution_count": 23,
     "metadata": {},
     "output_type": "execute_result"
    }
   ],
   "source": [
    "citi_data = pd.read_csv('../WeatherPy/citi_data.csv')\n",
    "fig = gmaps.figure(layout = {'width':'800px', 'height':'400px'}, zoom_level=1, center =(0,0))\n",
    "heat = gmaps.heatmap_layer(citi_data[['latitude','longitude']], weights=citi_data['humidity'], max_intensity=100, point_radius=5)\n",
    "fig.add_layer(heat)\n",
    "fig\n",
    "citi_data.dtypes"
   ]
  },
  {
   "cell_type": "code",
   "execution_count": 34,
   "metadata": {},
   "outputs": [
    {
     "data": {
      "text/plain": [
       "20"
      ]
     },
     "execution_count": 34,
     "metadata": {},
     "output_type": "execute_result"
    }
   ],
   "source": [
    "ideal_temp = (citi_data['temperature']>70) & (citi_data['temperature']<80)\n",
    "ideal_windspeed = citi_data['windspeed']<10\n",
    "ideal_cloudiness = citi_data['cloudiness']<25\n",
    "vacation_spots = citi_data[ideal_temp & ideal_windspeed & ideal_cloudiness]\n"
   ]
  },
  {
   "cell_type": "code",
   "execution_count": null,
   "metadata": {},
   "outputs": [],
   "source": []
  }
 ],
 "metadata": {
  "kernelspec": {
   "display_name": "Python [conda env:root] *",
   "language": "python",
   "name": "conda-root-py"
  },
  "language_info": {
   "codemirror_mode": {
    "name": "ipython",
    "version": 3
   },
   "file_extension": ".py",
   "mimetype": "text/x-python",
   "name": "python",
   "nbconvert_exporter": "python",
   "pygments_lexer": "ipython3",
   "version": "3.8.5"
  }
 },
 "nbformat": 4,
 "nbformat_minor": 4
}
