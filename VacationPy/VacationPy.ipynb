{
 "cells": [
  {
   "cell_type": "code",
   "execution_count": 3,
   "metadata": {},
   "outputs": [],
   "source": [
    "import pandas as pd\n",
    "from citipy import citipy\n",
    "import requests\n",
    "import json\n",
    "import numpy as np\n",
    "import gmaps\n",
    "from pprint import pprint\n",
    "from config import gkey\n",
    "gmaps.configure(api_key=gkey)"
   ]
  },
  {
   "cell_type": "code",
   "execution_count": 4,
   "metadata": {},
   "outputs": [
    {
     "data": {
      "application/vnd.jupyter.widget-view+json": {
       "model_id": "d2cc7698a44042f5b8c8cabb48161f8c",
       "version_major": 2,
       "version_minor": 0
      },
      "text/plain": [
       "Figure(layout=FigureLayout(height='400px', width='800px'))"
      ]
     },
     "metadata": {},
     "output_type": "display_data"
    }
   ],
   "source": [
    "citi_data = pd.read_csv('../output/citi_data.csv')\n",
    "fig = gmaps.figure(layout = {'width':'800px', 'height':'400px'}, zoom_level=1, center =(0,0))\n",
    "heat = gmaps.heatmap_layer(citi_data[['latitude','longitude']], weights=citi_data['humidity'], max_intensity=100, point_radius=5)\n",
    "fig.add_layer(heat)\n",
    "fig\n"
   ]
  },
  {
   "cell_type": "code",
   "execution_count": 5,
   "metadata": {},
   "outputs": [
    {
     "data": {
      "text/html": [
       "<div>\n",
       "<style scoped>\n",
       "    .dataframe tbody tr th:only-of-type {\n",
       "        vertical-align: middle;\n",
       "    }\n",
       "\n",
       "    .dataframe tbody tr th {\n",
       "        vertical-align: top;\n",
       "    }\n",
       "\n",
       "    .dataframe thead th {\n",
       "        text-align: right;\n",
       "    }\n",
       "</style>\n",
       "<table border=\"1\" class=\"dataframe\">\n",
       "  <thead>\n",
       "    <tr style=\"text-align: right;\">\n",
       "      <th></th>\n",
       "      <th>Unnamed: 0</th>\n",
       "      <th>name</th>\n",
       "      <th>country</th>\n",
       "      <th>latitude</th>\n",
       "      <th>longitude</th>\n",
       "      <th>temperature</th>\n",
       "      <th>cloudiness</th>\n",
       "      <th>humidity</th>\n",
       "      <th>windspeed</th>\n",
       "    </tr>\n",
       "  </thead>\n",
       "  <tbody>\n",
       "    <tr>\n",
       "      <th>8</th>\n",
       "      <td>10</td>\n",
       "      <td>kumluca</td>\n",
       "      <td>TR</td>\n",
       "      <td>36.3703</td>\n",
       "      <td>30.2869</td>\n",
       "      <td>74.43</td>\n",
       "      <td>0.0</td>\n",
       "      <td>53.0</td>\n",
       "      <td>7.70</td>\n",
       "    </tr>\n",
       "    <tr>\n",
       "      <th>175</th>\n",
       "      <td>204</td>\n",
       "      <td>phuket</td>\n",
       "      <td>TH</td>\n",
       "      <td>8.0000</td>\n",
       "      <td>98.2500</td>\n",
       "      <td>79.02</td>\n",
       "      <td>20.0</td>\n",
       "      <td>94.0</td>\n",
       "      <td>2.13</td>\n",
       "    </tr>\n",
       "    <tr>\n",
       "      <th>242</th>\n",
       "      <td>278</td>\n",
       "      <td>bardiyah</td>\n",
       "      <td>LY</td>\n",
       "      <td>31.7561</td>\n",
       "      <td>25.0865</td>\n",
       "      <td>73.63</td>\n",
       "      <td>10.0</td>\n",
       "      <td>55.0</td>\n",
       "      <td>6.29</td>\n",
       "    </tr>\n",
       "    <tr>\n",
       "      <th>251</th>\n",
       "      <td>289</td>\n",
       "      <td>denia</td>\n",
       "      <td>ES</td>\n",
       "      <td>38.8408</td>\n",
       "      <td>0.1057</td>\n",
       "      <td>76.48</td>\n",
       "      <td>23.0</td>\n",
       "      <td>50.0</td>\n",
       "      <td>4.00</td>\n",
       "    </tr>\n",
       "    <tr>\n",
       "      <th>427</th>\n",
       "      <td>470</td>\n",
       "      <td>requena</td>\n",
       "      <td>PE</td>\n",
       "      <td>39.4883</td>\n",
       "      <td>-1.1004</td>\n",
       "      <td>70.77</td>\n",
       "      <td>3.0</td>\n",
       "      <td>38.0</td>\n",
       "      <td>7.47</td>\n",
       "    </tr>\n",
       "  </tbody>\n",
       "</table>\n",
       "</div>"
      ],
      "text/plain": [
       "     Unnamed: 0      name country  latitude  longitude  temperature  \\\n",
       "8            10   kumluca      TR   36.3703    30.2869        74.43   \n",
       "175         204    phuket      TH    8.0000    98.2500        79.02   \n",
       "242         278  bardiyah      LY   31.7561    25.0865        73.63   \n",
       "251         289     denia      ES   38.8408     0.1057        76.48   \n",
       "427         470   requena      PE   39.4883    -1.1004        70.77   \n",
       "\n",
       "     cloudiness  humidity  windspeed  \n",
       "8           0.0      53.0       7.70  \n",
       "175        20.0      94.0       2.13  \n",
       "242        10.0      55.0       6.29  \n",
       "251        23.0      50.0       4.00  \n",
       "427         3.0      38.0       7.47  "
      ]
     },
     "execution_count": 5,
     "metadata": {},
     "output_type": "execute_result"
    }
   ],
   "source": [
    "# create bool arrays for the ideal conditions\n",
    "ideal_temp = (citi_data['temperature']>70) & (citi_data['temperature']<80)\n",
    "ideal_windspeed = citi_data['windspeed']<10\n",
    "ideal_cloudiness = citi_data['cloudiness']<25\n",
    "\n",
    "# filter data from citi_data that meets the ideal conditions\n",
    "vacation_spots = citi_data[ideal_temp & ideal_windspeed & ideal_cloudiness].copy(deep=True)\n",
    "vacation_spots\n"
   ]
  },
  {
   "cell_type": "code",
   "execution_count": 8,
   "metadata": {},
   "outputs": [
    {
     "name": "stdout",
     "output_type": "stream",
     "text": [
      "list index out of range\n",
      "list index out of range\n"
     ]
    },
    {
     "data": {
      "text/html": [
       "<div>\n",
       "<style scoped>\n",
       "    .dataframe tbody tr th:only-of-type {\n",
       "        vertical-align: middle;\n",
       "    }\n",
       "\n",
       "    .dataframe tbody tr th {\n",
       "        vertical-align: top;\n",
       "    }\n",
       "\n",
       "    .dataframe thead th {\n",
       "        text-align: right;\n",
       "    }\n",
       "</style>\n",
       "<table border=\"1\" class=\"dataframe\">\n",
       "  <thead>\n",
       "    <tr style=\"text-align: right;\">\n",
       "      <th></th>\n",
       "      <th>name</th>\n",
       "      <th>city</th>\n",
       "      <th>country</th>\n",
       "      <th>latitude</th>\n",
       "      <th>longitude</th>\n",
       "    </tr>\n",
       "  </thead>\n",
       "  <tbody>\n",
       "    <tr>\n",
       "      <th>175</th>\n",
       "      <td>Trisara</td>\n",
       "      <td>PHUKET</td>\n",
       "      <td>TH</td>\n",
       "      <td>8.03923</td>\n",
       "      <td>98.2755</td>\n",
       "    </tr>\n",
       "    <tr>\n",
       "      <th>251</th>\n",
       "      <td>Hotel Los Angeles Denia</td>\n",
       "      <td>DENIA</td>\n",
       "      <td>ES</td>\n",
       "      <td>38.8588</td>\n",
       "      <td>0.0660602</td>\n",
       "    </tr>\n",
       "    <tr>\n",
       "      <th>427</th>\n",
       "      <td>PAGO DE THARSYS Bodega y Viñedos</td>\n",
       "      <td>REQUENA</td>\n",
       "      <td>PE</td>\n",
       "      <td>39.4986</td>\n",
       "      <td>-1.12188</td>\n",
       "    </tr>\n",
       "  </tbody>\n",
       "</table>\n",
       "</div>"
      ],
      "text/plain": [
       "                                 name     city country latitude  longitude\n",
       "175                           Trisara   PHUKET      TH  8.03923    98.2755\n",
       "251           Hotel Los Angeles Denia    DENIA      ES  38.8588  0.0660602\n",
       "427  PAGO DE THARSYS Bodega y Viñedos  REQUENA      PE  39.4986   -1.12188"
      ]
     },
     "execution_count": 8,
     "metadata": {},
     "output_type": "execute_result"
    }
   ],
   "source": [
    "# create a dataframe for capturing hotel info\n",
    "hotels = pd.DataFrame(columns=['name', 'city', 'country', 'latitude','longitude'])\n",
    "hotels['city'] = vacation_spots['name'].str.upper()\n",
    "hotels['country']=vacation_spots['country']\n",
    "\n",
    "# api call to gmaps to collect hotel info\n",
    "base_url = 'https://maps.googleapis.com/maps/api/place/nearbysearch/json?'\n",
    "parameters ={\n",
    "    'key':gkey,\n",
    "    'location':'',\n",
    "    'keyword':'hotel',\n",
    "    'radius':5000,\n",
    "}\n",
    "\n",
    "for index,place in vacation_spots.iterrows():\n",
    "    parameters['location']=f'{place[\"latitude\"]},{place[\"longitude\"]}'\n",
    "    response = requests.get(base_url,params=parameters).json()\n",
    "    try:\n",
    "        hotels.loc[index,'name']=response['results'][0]['name']\n",
    "        hotels.loc[index, 'latitude'] = response['results'][0]['geometry']['location']['lat']\n",
    "        hotels.loc[index, 'longitude'] = response['results'][0]['geometry']['location']['lng']\n",
    "    except IndexError as e:\n",
    "        print(e)\n",
    "\n",
    "hotels.dropna(inplace=True)\n",
    "\n",
    "# shotlisted hotels\n",
    "hotels"
   ]
  },
  {
   "cell_type": "code",
   "execution_count": 9,
   "metadata": {},
   "outputs": [
    {
     "data": {
      "application/vnd.jupyter.widget-view+json": {
       "model_id": "d2cc7698a44042f5b8c8cabb48161f8c",
       "version_major": 2,
       "version_minor": 0
      },
      "text/plain": [
       "Figure(layout=FigureLayout(height='400px', width='800px'))"
      ]
     },
     "metadata": {},
     "output_type": "display_data"
    }
   ],
   "source": [
    "# add hotel info to gmaps marker layer\n",
    "\n",
    "hotels.dropna(subset=['name'], inplace=True)\n",
    "info_box =[ {'name':row['name'],'city':row['city'],'country':row['country']} for index,row in hotels.iterrows()]\n",
    "info_box_template = \"\"\"\n",
    "<dl>\n",
    "<dt>Name</dt><dd>{name}</dd>\n",
    "<dt>City</dt><dd>{city}</dd>\n",
    "<dt>Country</dt><dd>{country}</dd>\n",
    "</dl>\n",
    "\"\"\"\n",
    "hotel_info = [info_box_template.format(**info) for info in info_box]\n",
    "\n",
    "markers = gmaps.marker_layer(hotels[['latitude','longitude']], info_box_content=hotel_info)\n",
    "fig.add_layer(markers)\n",
    "fig"
   ]
  },
  {
   "cell_type": "code",
   "execution_count": null,
   "metadata": {},
   "outputs": [],
   "source": []
  },
  {
   "cell_type": "code",
   "execution_count": null,
   "metadata": {},
   "outputs": [],
   "source": []
  }
 ],
 "metadata": {
  "kernelspec": {
   "display_name": "Python [conda env:root] *",
   "language": "python",
   "name": "conda-root-py"
  },
  "language_info": {
   "codemirror_mode": {
    "name": "ipython",
    "version": 3
   },
   "file_extension": ".py",
   "mimetype": "text/x-python",
   "name": "python",
   "nbconvert_exporter": "python",
   "pygments_lexer": "ipython3",
   "version": "3.8.5"
  }
 },
 "nbformat": 4,
 "nbformat_minor": 4
}
